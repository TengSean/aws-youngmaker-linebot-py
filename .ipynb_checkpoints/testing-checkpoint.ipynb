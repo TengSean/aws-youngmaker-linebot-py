{
 "cells": [
  {
   "cell_type": "code",
   "execution_count": 1,
   "metadata": {
    "ExecuteTime": {
     "end_time": "2021-02-03T16:27:55.217772Z",
     "start_time": "2021-02-03T16:27:55.190607Z"
    }
   },
   "outputs": [
    {
     "name": "stdout",
     "output_type": "stream",
     "text": [
      "{'contents': [{'body': {'action': {'data': '藍莓冰菓醋&我要報名&camp',\n",
      "                                   'displayText': '您目前點選',\n",
      "                                   'label': 'action',\n",
      "                                   'type': 'postback'},\n",
      "                        'contents': [{'aspectMode': 'cover',\n",
      "                                      'aspectRatio': '1:1.55',\n",
      "                                      'gravity': 'center',\n",
      "                                      'size': 'full',\n",
      "                                      'type': 'image',\n",
      "                                      'url': 'https://i.imgur.com/EAKrcOo.jpg'}],\n",
      "                        'height': '370px',\n",
      "                        'layout': 'vertical',\n",
      "                        'paddingAll': '0px',\n",
      "                        'type': 'box',\n",
      "                        'width': '100%'},\n",
      "               'size': 'kilo',\n",
      "               'type': 'bubble'}],\n",
      " 'type': 'carousel'}\n"
     ]
    }
   ],
   "source": [
    "\n",
    "from msgHandler import MsgHandler\n",
    "from pprint import pprint\n",
    "ans = {\n",
    "    '{CLASSNAME0}':'藍莓冰菓醋'\n",
    "}\n",
    "\n",
    "with open(\"src/reply_template/camp.txt\", \"r\") as f:\n",
    "    mh = MsgHandler().msgReplace( eval(f.read()), ans)\n",
    "\n",
    "    \n",
    "pprint(mh)\n",
    "# pprint(b)"
   ]
  },
  {
   "cell_type": "code",
   "execution_count": 4,
   "metadata": {
    "ExecuteTime": {
     "end_time": "2021-02-03T16:49:44.169420Z",
     "start_time": "2021-02-03T16:49:40.563059Z"
    }
   },
   "outputs": [
    {
     "name": "stdout",
     "output_type": "stream",
     "text": [
      "([{'name': '甜在心布朗尼', 'intro': '禮拜六', 'url': 'https://media.tenor.com/images/899ac47af456adf4371231132d17e3c5/tenor.png'}, {'name': '積木營', 'intro': '每週一到五上課', 'url': 'https://i.pinimg.com/474x/f6/1a/40/f61a40210500711d00c3e6c152114538.jpg'}, {'name': '藍莓冰菓醋', 'intro': '禮拜六', 'url': 'https://i.pinimg.com/originals/53/0e/93/530e9312f7e236423622a03a2ff259a5.jpg'}, {'name': '藍莓冰菓醋', 'intro': '禮拜六', 'url': 'https://i.pinimg.com/originals/53/0e/93/530e9312f7e236423622a03a2ff259a5.jpg'}, {'name': '幼兒積木營', 'intro': '每週一到五上課', 'url': 'https://i.pinimg.com/originals/14/25/d6/1425d6498457163a33410c5005229eb0.jpg'}, {'name': '藍莓冰菓醋', 'intro': '禮拜六', 'url': 'https://i.pinimg.com/originals/53/0e/93/530e9312f7e236423622a03a2ff259a5.jpg'}, {'name': \"珊米機器人''''''''''''''''''''''''''''''\", 'intro': '禮拜六', 'url': 'https://i.pinimg.com/originals/36/72/7b/36727b7a8b0a5fc61807175147a88aec.jpg'}], [{'name': '起司好吃', 'intro': 'N', 'url': 'https://media.tenor.com/images/899ac47af456adf4371231132d17e3c5/tenor.png'}, {'name': '動物星球', 'intro': 'N', 'url': 'https://i.pinimg.com/474x/f6/1a/40/f61a40210500711d00c3e6c152114538.jpg'}, {'name': '動物星球', 'intro': 'N', 'url': 'https://i.pinimg.com/originals/14/25/d6/1425d6498457163a33410c5005229eb0.jpg'}, {'name': '快樂搬運工', 'intro': 'N', 'url': 'https://i.pinimg.com/474x/f6/1a/40/f61a40210500711d00c3e6c152114538.jpg'}, {'name': '幼兒智高', 'intro': 'N', 'url': 'https://i.pinimg.com/474x/f6/1a/40/f61a40210500711d00c3e6c152114538.jpg'}, {'name': '幼兒智高', 'intro': 'N', 'url': 'https://i.pinimg.com/474x/f6/1a/40/f61a40210500711d00c3e6c152114538.jpg'}, {'name': '幼兒智高', 'intro': 'N', 'url': 'https://i.pinimg.com/474x/f6/1a/40/f61a40210500711d00c3e6c152114538.jpg'}, {'name': '幼兒智高', 'intro': 'N', 'url': 'https://i.pinimg.com/474x/f6/1a/40/f61a40210500711d00c3e6c152114538.jpg'}, {'name': '國小智高', 'intro': 'N', 'url': 'https://i.pinimg.com/474x/f6/1a/40/f61a40210500711d00c3e6c152114538.jpg'}, {'name': '國小智高', 'intro': 'N', 'url': 'https://i.pinimg.com/474x/f6/1a/40/f61a40210500711d00c3e6c152114538.jpg'}], [{'name': '起司好吃', 'intro': 'N', 'url': 'https://media.tenor.com/images/899ac47af456adf4371231132d17e3c5/tenor.png'}, {'name': '動物星球', 'intro': 'N', 'url': 'https://i.pinimg.com/474x/f6/1a/40/f61a40210500711d00c3e6c152114538.jpg'}, {'name': '動物星球', 'intro': 'N', 'url': 'https://i.pinimg.com/originals/14/25/d6/1425d6498457163a33410c5005229eb0.jpg'}, {'name': '快樂搬運工', 'intro': 'N', 'url': 'https://i.pinimg.com/474x/f6/1a/40/f61a40210500711d00c3e6c152114538.jpg'}, {'name': '幼兒智高', 'intro': 'N', 'url': 'https://i.pinimg.com/474x/f6/1a/40/f61a40210500711d00c3e6c152114538.jpg'}, {'name': '幼兒智高', 'intro': 'N', 'url': 'https://i.pinimg.com/474x/f6/1a/40/f61a40210500711d00c3e6c152114538.jpg'}, {'name': '幼兒智高', 'intro': 'N', 'url': 'https://i.pinimg.com/474x/f6/1a/40/f61a40210500711d00c3e6c152114538.jpg'}, {'name': '幼兒智高', 'intro': 'N', 'url': 'https://i.pinimg.com/474x/f6/1a/40/f61a40210500711d00c3e6c152114538.jpg'}, {'name': '國小智高', 'intro': 'N', 'url': 'https://i.pinimg.com/474x/f6/1a/40/f61a40210500711d00c3e6c152114538.jpg'}, {'name': '國小智高', 'intro': 'N', 'url': 'https://i.pinimg.com/474x/f6/1a/40/f61a40210500711d00c3e6c152114538.jpg'}])\n"
     ]
    },
    {
     "data": {
      "text/plain": [
       "{\"altText\": \"flex notify\", \"contents\": {\"contents\": [{\"body\": {\"action\": {\"data\": \"{CLASSNAME}&\\u6211\\u8981\\u5831\\u540d&camp\", \"displayText\": \"\\u60a8\\u76ee\\u524d\\u9ede\\u9078\", \"label\": \"action\", \"type\": \"postback\"}, \"contents\": [{\"aspectMode\": \"cover\", \"aspectRatio\": \"1:1.55\", \"gravity\": \"center\", \"size\": \"full\", \"type\": \"image\", \"url\": \"https://i.imgur.com/EAKrcOo.jpg\"}], \"height\": \"370px\", \"layout\": \"vertical\", \"paddingAll\": \"0px\", \"type\": \"box\", \"width\": \"100%\"}, \"size\": \"kilo\", \"type\": \"bubble\"}], \"type\": \"carousel\"}, \"type\": \"flex\"}"
      ]
     },
     "execution_count": 4,
     "metadata": {},
     "output_type": "execute_result"
    }
   ],
   "source": [
    "\n",
    "import abc\n",
    "import types\n",
    "from flask import request\n",
    "\n",
    "from linebot.models import *\n",
    "\n",
    "from config import Config\n",
    "from gexcel import ExcelBase\n",
    "\n",
    "\n",
    "class BaseStrategy():\n",
    "\n",
    "    def __init__(self, func = None, event = None, *args, **kwargs):\n",
    "        self.name = func.__name__ if func else \"default\"\n",
    "        self.__CONFIG = Config()\n",
    "        self.event = event\n",
    "        if func:\n",
    "            self.__execute = types.MethodType(func, self)\n",
    "        # print('{} class, task {}'.format(self.__class__.__name__, self.name))\n",
    "    \n",
    "    def __execute(self, Content=None, *args, **kwargs):\n",
    "        pass\n",
    "\n",
    "    def execute(self, Content=None, *args, **kwargs):\n",
    "        # obj = self.__execute(Content)\n",
    "        obj = self.__execute(*args, **kwargs)\n",
    "\n",
    "        # self.reply_message(TextSendMessage(text))   \n",
    "        self.reply_message(obj)\n",
    "\n",
    "    def reply_message(self, obj):\n",
    "        self.__CONFIG.line_bot_api.reply_message(self.event.reply_token, obj)\n",
    "\n",
    "\n",
    "class TemplateStrategy(BaseStrategy, metaclass = abc.ABCMeta):\n",
    "    def __init__(self, func = None, event = None, CarouselColumns = None, ):\n",
    "        super().__init__(func = func,\n",
    "                        event = event,\n",
    "                        CarouselColumns = CarouselColumns)\n",
    "\n",
    "    @abc.abstractmethod\n",
    "    def Update_Columns(self, ):\n",
    "        return NotImplemented\n",
    "\n",
    "    @abc.abstractmethod\n",
    "    def get_columns(self, ):\n",
    "        return NotImplemented\n",
    "    \n",
    "    \n",
    "\n",
    "# Dyanmic template\n",
    "# Set carousel list\n",
    "class camp(TemplateStrategy):\n",
    "#     __json = jsonParser()\n",
    "    @classmethod\n",
    "    def execute(cls, *args, **kwargs):\n",
    "        with open('src/reply_template/camp.txt', 'r') as f:\n",
    "            flex_json = eval(f.read())\n",
    "        self.\n",
    "#         print(ExcelBase().ongoing())\n",
    "        return FlexSendMessage(\n",
    "                alt_text = f'flex notify',\n",
    "                contents = flex_json,\n",
    "            )\n",
    "    \n",
    "camp.execute()"
   ]
  },
  {
   "cell_type": "code",
   "execution_count": 154,
   "metadata": {
    "ExecuteTime": {
     "end_time": "2021-02-03T15:22:49.089373Z",
     "start_time": "2021-02-03T15:22:49.071890Z"
    }
   },
   "outputs": [
    {
     "name": "stdout",
     "output_type": "stream",
     "text": [
      "{URL}\n",
      "{URL0}\n",
      "{NAME1}\n",
      "{'P1': '{URL}', 'Id': '1234', 'P2': {'P1': '{URL0}'}, 'P3': [{'P1': '{NAME1}'}]}\n"
     ]
    }
   ],
   "source": [
    "import re\n",
    "\n",
    "def json_extract(obj, key):\n",
    "    \"\"\"Recursively fetch values from nested JSON.\"\"\"\n",
    "    def extract(obj, key):\n",
    "        \"\"\"Recursively search for values of key in JSON tree.\"\"\"\n",
    "        if isinstance(obj, dict):\n",
    "            for k, v in obj.items():\n",
    "                if isinstance(v, (dict, list)):\n",
    "                    obj[k] = extract(v, key)\n",
    "                elif isinstance(v, str):\n",
    "                    mares = re.findall(r\"{[A-Z]+[0-9]*}\", v)\n",
    "                    if mares:\n",
    "                        print(v)\n",
    "#                     obj[k] = obj[k].format('yeee')\n",
    "        elif isinstance(obj, list):\n",
    "            for idx, item in enumerate(obj):\n",
    "                obj[idx] = extract(item, key)\n",
    "        return obj\n",
    "    obj = extract(obj, key)\n",
    "    return obj\n",
    "\n",
    "a = '''{\n",
    "  \"P1\": \"{URL}\",\n",
    "  \"Id\": \"1234\",\n",
    "  \"P2\": {\n",
    "      \"P1\": \"{URL0}\"\n",
    "  },\n",
    "  \"P3\": [\n",
    "      {\n",
    "          \"P1\": \"{NAME1}\"\n",
    "      }\n",
    "  ]\n",
    "}'''\n",
    "obj= json_extract(eval(a), \"P1\")\n",
    "print(obj)\n",
    "# print(eval(a))\n",
    "\n",
    "# a = eval(a)\n",
    "# a['P1'] = a['P1'].format('v')\n",
    "# a"
   ]
  },
  {
   "cell_type": "code",
   "execution_count": 151,
   "metadata": {
    "ExecuteTime": {
     "end_time": "2021-02-03T15:20:58.971801Z",
     "start_time": "2021-02-03T15:20:58.964140Z"
    }
   },
   "outputs": [
    {
     "name": "stdout",
     "output_type": "stream",
     "text": [
      "['{URL}']\n",
      "a\n"
     ]
    }
   ],
   "source": [
    "\n",
    "mares = re.findall(r\"{[A-Z]+[0-9]*}\", '{URL}')\n",
    "if mares:\n",
    "    print(mares)\n",
    "    print('a')\n"
   ]
  },
  {
   "cell_type": "code",
   "execution_count": null,
   "metadata": {},
   "outputs": [],
   "source": []
  }
 ],
 "metadata": {
  "kernelspec": {
   "display_name": "Python 3",
   "language": "python",
   "name": "python3"
  },
  "nbTranslate": {
   "displayLangs": [
    "*"
   ],
   "hotkey": "alt-t",
   "langInMainMenu": true,
   "sourceLang": "en",
   "targetLang": "fr",
   "useGoogleTranslate": true
  },
  "toc": {
   "base_numbering": 1,
   "nav_menu": {},
   "number_sections": true,
   "sideBar": true,
   "skip_h1_title": false,
   "title_cell": "Table of Contents",
   "title_sidebar": "Contents",
   "toc_cell": false,
   "toc_position": {},
   "toc_section_display": true,
   "toc_window_display": false
  },
  "varInspector": {
   "cols": {
    "lenName": 16,
    "lenType": 16,
    "lenVar": 40
   },
   "kernels_config": {
    "python": {
     "delete_cmd_postfix": "",
     "delete_cmd_prefix": "del ",
     "library": "var_list.py",
     "varRefreshCmd": "print(var_dic_list())"
    },
    "r": {
     "delete_cmd_postfix": ") ",
     "delete_cmd_prefix": "rm(",
     "library": "var_list.r",
     "varRefreshCmd": "cat(var_dic_list()) "
    }
   },
   "types_to_exclude": [
    "module",
    "function",
    "builtin_function_or_method",
    "instance",
    "_Feature"
   ],
   "window_display": false
  }
 },
 "nbformat": 4,
 "nbformat_minor": 2
}
