{
 "cells": [
  {
   "cell_type": "code",
   "execution_count": 1,
   "metadata": {
    "ExecuteTime": {
     "end_time": "2021-02-03T16:27:55.217772Z",
     "start_time": "2021-02-03T16:27:55.190607Z"
    }
   },
   "outputs": [
    {
     "name": "stdout",
     "output_type": "stream",
     "text": [
      "{'contents': [{'body': {'action': {'data': '藍莓冰菓醋&我要報名&camp',\n",
      "                                   'displayText': '您目前點選',\n",
      "                                   'label': 'action',\n",
      "                                   'type': 'postback'},\n",
      "                        'contents': [{'aspectMode': 'cover',\n",
      "                                      'aspectRatio': '1:1.55',\n",
      "                                      'gravity': 'center',\n",
      "                                      'size': 'full',\n",
      "                                      'type': 'image',\n",
      "                                      'url': 'https://i.imgur.com/EAKrcOo.jpg'}],\n",
      "                        'height': '370px',\n",
      "                        'layout': 'vertical',\n",
      "                        'paddingAll': '0px',\n",
      "                        'type': 'box',\n",
      "                        'width': '100%'},\n",
      "               'size': 'kilo',\n",
      "               'type': 'bubble'}],\n",
      " 'type': 'carousel'}\n"
     ]
    }
   ],
   "source": [
    "\n",
    "from msgHandler import MsgHandler\n",
    "from pprint import pprint\n",
    "ans = {\n",
    "    '{CLASSNAME0}':'藍莓冰菓醋'\n",
    "}\n",
    "\n",
    "with open(\"src/reply_template/camp.txt\", \"r\") as f:\n",
    "    mh = MsgHandler().msgReplace( eval(f.read()), ans)\n",
    "\n",
    "    \n",
    "pprint(mh)\n",
    "# pprint(b)"
   ]
  },
  {
   "cell_type": "code",
   "execution_count": 6,
   "metadata": {
    "ExecuteTime": {
     "end_time": "2021-02-03T16:58:25.117548Z",
     "start_time": "2021-02-03T16:58:25.097227Z"
    }
   },
   "outputs": [
    {
     "name": "stdout",
     "output_type": "stream",
     "text": [
      "a\n"
     ]
    }
   ],
   "source": [
    "\n",
    "import abc\n",
    "import types\n",
    "from flask import request\n",
    "\n",
    "from linebot.models import *\n",
    "\n",
    "from config import Config\n",
    "from gexcel import ExcelBase\n",
    "\n",
    "\n",
    "class BaseStrategy():\n",
    "\n",
    "    def __init__(self, func = None, event = None, *args, **kwargs):\n",
    "        self.name = func.__name__ if func else \"default\"\n",
    "        self.__CONFIG = Config()\n",
    "        self.event = event\n",
    "        if func:\n",
    "            self.__execute = types.MethodType(func, self)\n",
    "        # print('{} class, task {}'.format(self.__class__.__name__, self.name))\n",
    "    \n",
    "    def __execute(self, Content=None, *args, **kwargs):\n",
    "        pass\n",
    "\n",
    "    def execute(self, Content=None, *args, **kwargs):\n",
    "        # obj = self.__execute(Content)\n",
    "        obj = self.__execute(*args, **kwargs)\n",
    "\n",
    "        # self.reply_message(TextSendMessage(text))   \n",
    "        self.reply_message(obj)\n",
    "\n",
    "    def reply_message(self, obj):\n",
    "        self.__CONFIG.line_bot_api.reply_message(self.event.reply_token, obj)\n",
    "\n",
    "\n",
    "class TemplateStrategy(BaseStrategy, metaclass = abc.ABCMeta):\n",
    "    def __init__(self, func = None, event = None, CarouselColumns = None, ):\n",
    "        super().__init__(func = func,\n",
    "                        event = event,\n",
    "                        CarouselColumns = CarouselColumns)\n",
    "\n",
    "    @abc.abstractmethod\n",
    "    def Update_Columns(self, ):\n",
    "        return NotImplemented\n",
    "\n",
    "    @abc.abstractmethod\n",
    "    def get_columns(self, ):\n",
    "        return NotImplemented\n",
    "    \n",
    "    \n",
    "\n",
    "# Dyanmic template\n",
    "# Set carousel list\n",
    "class camp(TemplateStrategy):\n",
    "    def __init__(self,):\n",
    "        pass\n",
    "#     __json = jsonParser()\n",
    "    def Update_Columns(self,):\n",
    "        print('a')\n",
    "    def get_columns(self,):\n",
    "        pass\n",
    "    def execute(self, *args, **kwargs):\n",
    "        with open('src/reply_template/camp_box.txt', 'r') as f:\n",
    "            flex_json = eval(f.read())\n",
    "        self.Update_Columns()\n",
    "        \n",
    "#         print(ExcelBase().ongoing())\n",
    "#         return FlexSendMessage(\n",
    "#                 alt_text = f'flex notify',\n",
    "#                 contents = flex_json,\n",
    "#             )\n",
    "    \n",
    "class t(object):\n",
    "    def __init__(self,):\n",
    "        pass\n",
    "    \n",
    "    def a(self,):\n",
    "        print('a')\n",
    "camp().execute()\n",
    "# t.a()\n"
   ]
  },
  {
   "cell_type": "code",
   "execution_count": 154,
   "metadata": {
    "ExecuteTime": {
     "end_time": "2021-02-03T15:22:49.089373Z",
     "start_time": "2021-02-03T15:22:49.071890Z"
    }
   },
   "outputs": [
    {
     "name": "stdout",
     "output_type": "stream",
     "text": [
      "{URL}\n",
      "{URL0}\n",
      "{NAME1}\n",
      "{'P1': '{URL}', 'Id': '1234', 'P2': {'P1': '{URL0}'}, 'P3': [{'P1': '{NAME1}'}]}\n"
     ]
    }
   ],
   "source": [
    "import re\n",
    "\n",
    "def json_extract(obj, key):\n",
    "    \"\"\"Recursively fetch values from nested JSON.\"\"\"\n",
    "    def extract(obj, key):\n",
    "        \"\"\"Recursively search for values of key in JSON tree.\"\"\"\n",
    "        if isinstance(obj, dict):\n",
    "            for k, v in obj.items():\n",
    "                if isinstance(v, (dict, list)):\n",
    "                    obj[k] = extract(v, key)\n",
    "                elif isinstance(v, str):\n",
    "                    mares = re.findall(r\"{[A-Z]+[0-9]*}\", v)\n",
    "                    if mares:\n",
    "                        print(v)\n",
    "#                     obj[k] = obj[k].format('yeee')\n",
    "        elif isinstance(obj, list):\n",
    "            for idx, item in enumerate(obj):\n",
    "                obj[idx] = extract(item, key)\n",
    "        return obj\n",
    "    obj = extract(obj, key)\n",
    "    return obj\n",
    "\n",
    "a = '''{\n",
    "  \"P1\": \"{URL}\",\n",
    "  \"Id\": \"1234\",\n",
    "  \"P2\": {\n",
    "      \"P1\": \"{URL0}\"\n",
    "  },\n",
    "  \"P3\": [\n",
    "      {\n",
    "          \"P1\": \"{NAME1}\"\n",
    "      }\n",
    "  ]\n",
    "}'''\n",
    "obj= json_extract(eval(a), \"P1\")\n",
    "print(obj)\n",
    "# print(eval(a))\n",
    "\n",
    "# a = eval(a)\n",
    "# a['P1'] = a['P1'].format('v')\n",
    "# a"
   ]
  },
  {
   "cell_type": "code",
   "execution_count": 151,
   "metadata": {
    "ExecuteTime": {
     "end_time": "2021-02-03T15:20:58.971801Z",
     "start_time": "2021-02-03T15:20:58.964140Z"
    }
   },
   "outputs": [
    {
     "name": "stdout",
     "output_type": "stream",
     "text": [
      "['{URL}']\n",
      "a\n"
     ]
    }
   ],
   "source": [
    "\n",
    "mares = re.findall(r\"{[A-Z]+[0-9]*}\", '{URL}')\n",
    "if mares:\n",
    "    print(mares)\n",
    "    print('a')\n"
   ]
  },
  {
   "cell_type": "code",
   "execution_count": 28,
   "metadata": {
    "ExecuteTime": {
     "end_time": "2021-02-07T12:50:52.982740Z",
     "start_time": "2021-02-07T12:50:52.018873Z"
    }
   },
   "outputs": [
    {
     "name": "stdout",
     "output_type": "stream",
     "text": [
      "['https://i.imgur.com/XvhuvBa.jpg', 'https://i.imgur.com/00rk8Ax.png', 'https://i.imgur.com/UP3LYqV.png']\n"
     ]
    }
   ],
   "source": [
    "\n",
    "import json\n",
    "from pprint import pprint \n",
    "\n",
    "import requests\n",
    "albumId = 's9vk1hs'\n",
    "url = f\"https://api.imgur.com/3/album/{albumId}/images\"\n",
    "\n",
    "payload = {}\n",
    "files = {}\n",
    "headers = {\n",
    "  'Authorization': 'Client-ID 768ad4159b8ea33'\n",
    "}\n",
    "\n",
    "res = requests.request(\"GET\", url, headers=headers)\n",
    "print([ j['link'] for j in json.loads(res.content)['data']])"
   ]
  },
  {
   "cell_type": "code",
   "execution_count": 8,
   "metadata": {
    "ExecuteTime": {
     "end_time": "2021-02-07T21:55:40.136176Z",
     "start_time": "2021-02-07T21:55:40.129375Z"
    }
   },
   "outputs": [
    {
     "name": "stdout",
     "output_type": "stream",
     "text": [
      "aa\n"
     ]
    }
   ],
   "source": [
    "from datetime import datetime, timedelta\n",
    "\n",
    "if datetime.now() - timedelta(days=1) >= datetime.strptime(\"2021/02/07\", \"%Y/%m/%d\"):\n",
    "    print('aa')\n",
    "\n"
   ]
  },
  {
   "cell_type": "code",
   "execution_count": 1,
   "metadata": {
    "ExecuteTime": {
     "end_time": "2021-02-08T20:01:08.076670Z",
     "start_time": "2021-02-08T20:01:08.057771Z"
    }
   },
   "outputs": [
    {
     "data": {
      "text/plain": [
       "0"
      ]
     },
     "execution_count": 1,
     "metadata": {},
     "output_type": "execute_result"
    }
   ],
   "source": [
    "len([])"
   ]
  },
  {
   "cell_type": "code",
   "execution_count": 5,
   "metadata": {
    "ExecuteTime": {
     "end_time": "2021-02-08T20:02:59.657682Z",
     "start_time": "2021-02-08T20:02:59.646119Z"
    }
   },
   "outputs": [
    {
     "data": {
      "text/plain": [
       "{}"
      ]
     },
     "execution_count": 5,
     "metadata": {},
     "output_type": "execute_result"
    }
   ],
   "source": [
    "a = []\n",
    "b = []\n",
    "{'a'} if a or b else {}"
   ]
  },
  {
   "cell_type": "code",
   "execution_count": 8,
   "metadata": {
    "ExecuteTime": {
     "end_time": "2021-02-09T03:32:50.800556Z",
     "start_time": "2021-02-09T03:32:50.792470Z"
    }
   },
   "outputs": [
    {
     "name": "stdout",
     "output_type": "stream",
     "text": [
      "b\n"
     ]
    }
   ],
   "source": [
    "a = {}\n",
    "\n",
    "if 'a' in a:\n",
    "    print('a')\n",
    "else: print('b')    "
   ]
  },
  {
   "cell_type": "code",
   "execution_count": 2,
   "metadata": {
    "ExecuteTime": {
     "end_time": "2021-02-09T05:38:19.481372Z",
     "start_time": "2021-02-09T05:38:19.458656Z"
    }
   },
   "outputs": [
    {
     "data": {
      "text/plain": [
       "array([[['a', 'c'],\n",
       "        ['b', 'd']]], dtype='<U1')"
      ]
     },
     "execution_count": 2,
     "metadata": {},
     "output_type": "execute_result"
    }
   ],
   "source": [
    "import numpy as np\n",
    "\n",
    "a = [[['a'], ['b']], [['c'], ['d']]]\n",
    "np.transpose(np.array(a))"
   ]
  },
  {
   "cell_type": "code",
   "execution_count": 4,
   "metadata": {
    "ExecuteTime": {
     "end_time": "2021-02-09T05:45:24.741477Z",
     "start_time": "2021-02-09T05:45:24.733382Z"
    }
   },
   "outputs": [
    {
     "name": "stdout",
     "output_type": "stream",
     "text": [
      "2021-02-09T13:45:24.737969\n",
      "Invalid isoformat string\n"
     ]
    }
   ],
   "source": [
    "from datetime import date, datetime\n",
    "\n",
    "iso = datetime.now().isoformat()\n",
    "print(iso)\n",
    "try:\n",
    "    date.fromisoformat(iso)\n",
    "except ValueError:\n",
    "    print(\"Invalid isoformat string\")"
   ]
  },
  {
   "cell_type": "code",
   "execution_count": 3,
   "metadata": {
    "ExecuteTime": {
     "end_time": "2021-02-09T10:43:38.907117Z",
     "start_time": "2021-02-09T10:43:38.567177Z"
    }
   },
   "outputs": [
    {
     "data": {
      "image/png": "[encoded data removed]",
      "text/plain": [
       "<Figure size 432x288 with 6 Axes>"
      ]
     },
     "metadata": {},
     "output_type": "display_data"
    },
    {
     "data": {
      "text/plain": [
       "True"
      ]
     },
     "execution_count": 3,
     "metadata": {},
     "output_type": "execute_result"
    }
   ],
   "source": [
    "import cv2\n",
    "from matplotlib import pyplot as plt\n",
    "\n",
    "image = cv2.imread('1657692.jpg')\n",
    "img1 = cv2.resize(image, (400, 400), interpolation=cv2.INTER_NEAREST)\n",
    "img2 = cv2.resize(image, (400, 400), interpolation=cv2.INTER_LINEAR)\n",
    "img3 = cv2.resize(image, (400, 400), interpolation=cv2.INTER_AREA)\n",
    "img4 = cv2.resize(image, (400, 400), interpolation=cv2.INTER_CUBIC)\n",
    "img5 = cv2.resize(image, (400, 400), interpolation=cv2.INTER_LANCZOS4)\n",
    "\n",
    "# BGR 轉 RGB\n",
    "img0_rgb = cv2.cvtColor(image, cv2.COLOR_BGR2RGB)\n",
    "img1_rgb = cv2.cvtColor(img1, cv2.COLOR_BGR2RGB)\n",
    "img2_rgb = cv2.cvtColor(img2, cv2.COLOR_BGR2RGB)\n",
    "img3_rgb = cv2.cvtColor(img3, cv2.COLOR_BGR2RGB)\n",
    "img4_rgb = cv2.cvtColor(img4, cv2.COLOR_BGR2RGB)\n",
    "img5_rgb = cv2.cvtColor(img5, cv2.COLOR_BGR2RGB)\n",
    "\n",
    "# 或這樣轉也可以\n",
    "#img1_rgb = img1[:,:,::-1]\n",
    "\n",
    "titles = ['Original Image', 'INTER_NEAREST', 'INTER_LINEAR', 'INTER_AREA', 'INTER_CUBIC', 'INTER_LANCZOS4']\n",
    "images = [img0_rgb, img1_rgb, img2_rgb, img3_rgb, img4_rgb, img5_rgb]\n",
    "for i in range(6):\n",
    "    plt.subplot(2, 3, i+1)\n",
    "    plt.imshow(images[i])\n",
    "    plt.title(titles[i])\n",
    "    plt.xticks([]), plt.yticks([])\n",
    "plt.show()\n",
    "\n",
    "cv2.imwrite('output.jpg', img4_rgb)"
   ]
  }
 ],
 "metadata": {
  "kernelspec": {
   "display_name": "Python 3",
   "language": "python",
   "name": "python3"
  },
  "language_info": {
   "codemirror_mode": {
    "name": "ipython",
    "version": 3
   },
   "file_extension": ".py",
   "mimetype": "text/x-python",
   "name": "python",
   "nbconvert_exporter": "python",
   "pygments_lexer": "ipython3",
   "version": "3.7.4"
  },
  "nbTranslate": {
   "displayLangs": [
    "*"
   ],
   "hotkey": "alt-t",
   "langInMainMenu": true,
   "sourceLang": "en",
   "targetLang": "fr",
   "useGoogleTranslate": true
  },
  "toc": {
   "base_numbering": 1,
   "nav_menu": {},
   "number_sections": true,
   "sideBar": true,
   "skip_h1_title": false,
   "title_cell": "Table of Contents",
   "title_sidebar": "Contents",
   "toc_cell": false,
   "toc_position": {},
   "toc_section_display": true,
   "toc_window_display": false
  },
  "varInspector": {
   "cols": {
    "lenName": 16,
    "lenType": 16,
    "lenVar": 40
   },
   "kernels_config": {
    "python": {
     "delete_cmd_postfix": "",
     "delete_cmd_prefix": "del ",
     "library": "var_list.py",
     "varRefreshCmd": "print(var_dic_list())"
    },
    "r": {
     "delete_cmd_postfix": ") ",
     "delete_cmd_prefix": "rm(",
     "library": "var_list.r",
     "varRefreshCmd": "cat(var_dic_list()) "
    }
   },
   "types_to_exclude": [
    "module",
    "function",
    "builtin_function_or_method",
    "instance",
    "_Feature"
   ],
   "window_display": false
  }
 },
 "nbformat": 4,
 "nbformat_minor": 2
}
